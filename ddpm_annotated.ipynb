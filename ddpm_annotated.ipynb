{
 "cells": [
  {
   "cell_type": "code",
   "execution_count": 8,
   "metadata": {},
   "outputs": [],
   "source": [
    "import argparse\n",
    "import os\n",
    "\n",
    "import torch\n",
    "from torch import nn\n",
    "from torch.nn import functional as F\n",
    "from torch.utils.data import DataLoader\n",
    "\n",
    "import matplotlib.pyplot as plt\n",
    "import numpy as np\n",
    "\n",
    "import datasets\n",
    "from positional_embeddings import PositionalEmbedding\n",
    "\n",
    "\n",
    "class Block(nn.Module):\n",
    "    def __init__(self, size: int):\n",
    "        super().__init__()\n",
    "\n",
    "        self.ff = nn.Linear(size, size)\n",
    "        self.act = nn.GELU()\n",
    "\n",
    "    def forward(self, x: torch.Tensor):\n",
    "        return x + self.act(self.ff(x))\n",
    "\n",
    "\n",
    "class MLP(nn.Module):\n",
    "    def __init__(self, hidden_size: int = 128, hidden_layers: int = 3, emb_size: int = 128,\n",
    "                 time_emb: str = \"sinusoidal\", input_emb: str = \"sinusoidal\"):\n",
    "        super().__init__()\n",
    "\n",
    "        self.time_mlp = PositionalEmbedding(emb_size, time_emb)\n",
    "        self.input_mlp1 = PositionalEmbedding(emb_size, input_emb, scale=25.0)\n",
    "        self.input_mlp2 = PositionalEmbedding(emb_size, input_emb, scale=25.0)\n",
    "\n",
    "        concat_size = len(self.time_mlp.layer) + \\\n",
    "            len(self.input_mlp1.layer) + len(self.input_mlp2.layer)\n",
    "        layers = [nn.Linear(concat_size, hidden_size), nn.GELU()]\n",
    "        for _ in range(hidden_layers):\n",
    "            layers.append(Block(hidden_size))\n",
    "        layers.append(nn.Linear(hidden_size, 2))\n",
    "        self.joint_mlp = nn.Sequential(*layers)\n",
    "\n",
    "    def forward(self, x, t):\n",
    "        x1_emb = self.input_mlp1(x[:, 0])\n",
    "        x2_emb = self.input_mlp2(x[:, 1])\n",
    "        t_emb = self.time_mlp(t)\n",
    "        x = torch.cat((x1_emb, x2_emb, t_emb), dim=-1)\n",
    "        x = self.joint_mlp(x)\n",
    "        return x\n",
    "\n",
    "\n",
    "class NoiseScheduler():\n",
    "    def __init__(self,\n",
    "                 num_timesteps=1000,\n",
    "                 beta_start=0.0001,\n",
    "                 beta_end=0.02,\n",
    "                 beta_schedule=\"linear\"):\n",
    "\n",
    "        self.num_timesteps = num_timesteps\n",
    "        if beta_schedule == \"linear\":\n",
    "            self.betas = torch.linspace(\n",
    "                beta_start, beta_end, num_timesteps, dtype=torch.float32)\n",
    "        elif beta_schedule == \"quadratic\":\n",
    "            self.betas = torch.linspace(\n",
    "                beta_start ** 0.5, beta_end ** 0.5, num_timesteps, dtype=torch.float32) ** 2\n",
    "\n",
    "        self.alphas = 1.0 - self.betas\n",
    "        self.alphas_cumprod = torch.cumprod(self.alphas, axis=0)\n",
    "        self.alphas_cumprod_prev = F.pad(\n",
    "            self.alphas_cumprod[:-1], (1, 0), value=1.)\n",
    "\n",
    "        # required for self.add_noise\n",
    "        self.sqrt_alphas_cumprod = self.alphas_cumprod ** 0.5\n",
    "        self.sqrt_one_minus_alphas_cumprod = (1 - self.alphas_cumprod) ** 0.5\n",
    "\n",
    "        # required for reconstruct_x0\n",
    "        self.sqrt_inv_alphas_cumprod = torch.sqrt(1 / self.alphas_cumprod)\n",
    "        self.sqrt_inv_alphas_cumprod_minus_one = torch.sqrt(\n",
    "            1 / self.alphas_cumprod - 1)\n",
    "\n",
    "        # required for q_posterior\n",
    "        self.posterior_mean_coef1 = self.betas * torch.sqrt(self.alphas_cumprod_prev) / (1. - self.alphas_cumprod)\n",
    "        self.posterior_mean_coef2 = (1. - self.alphas_cumprod_prev) * torch.sqrt(self.alphas) / (1. - self.alphas_cumprod)\n",
    "\n",
    "\n",
    "\n",
    "    def __len__(self):\n",
    "        return self.num_timesteps\n"
   ]
  },
  {
   "attachments": {},
   "cell_type": "markdown",
   "metadata": {},
   "source": [
    "# Sampling normal distributions 101\n",
    "\n",
    "$x \\sim \\mathcal{N}(\\mu, \\sigma^2)$\n",
    "\n",
    "$x = \\mu + \\sigma z \\quad , \\; z \\sim \\mathcal{N}(0, 1)$ "
   ]
  },
  {
   "attachments": {},
   "cell_type": "markdown",
   "metadata": {},
   "source": [
    "# Forward process\n",
    "\n",
    "![diff](static/diffusion_start.png)\n",
    "\n",
    "$$q(x_t | x_{t-1}) = \\mathcal{N}\\left(\\sqrt{1-\\beta_t}x_{t-1}, \\beta_t \\mathbf{I} \\right)$$\n",
    "\n",
    "Where:\n",
    "\n",
    "- $\\beta_t$ goes from 0...1\n",
    "- $\\mu = \\sqrt{1-\\beta_t}x_{t-1}$ \n",
    "- $\\sigma = \\sqrt{\\beta_t} \\mathbf{I}$ \n",
    "\n",
    "Sampling from $q$:\n",
    "\n",
    "$$x_t = \\sqrt{1-\\beta_t}x_{t-1} + \\sqrt{\\beta_t} \\mathbf{I} z \\quad , \\; z \\sim \\mathcal{N}(0, 1)$$ \n",
    "\n",
    "\n"
   ]
  },
  {
   "attachments": {},
   "cell_type": "markdown",
   "metadata": {},
   "source": [
    "# What else can we infer?\n",
    "\n",
    "![diff](static/diffusion_post.png)\n",
    "\n",
    "Solving the recurrent equation we get that:\n",
    "\n",
    "\n",
    "$$x_t = \\sqrt{\\vphantom{1}\\bar{\\alpha}_t} x_0 +  \\sqrt{1 - \\bar{\\alpha}_t} \\bar{z} \\quad , \\; \\bar{z} \\sim \\mathcal{N}(0, 1)$$ \n",
    "\n",
    "\n",
    "so $x_t$ come from a distribution that looks like this:\n",
    "\n",
    "$$q(x_t) = \\mathcal{N}\\left(\\sqrt{\\vphantom{1}\\bar{\\alpha}_t} x_0, \\left(1 - \\bar{\\alpha}_t \\right) \\mathbf{I} \\right)$$\n",
    "\n",
    "and we also know:\n",
    "\n",
    "$$q(x_{t-1}) = \\mathcal{N}\\left(\\sqrt{\\vphantom{1}\\bar{\\alpha}_{t-1}} x_0, \\left(1 - \\bar{\\alpha}_{t-1} \\right) \\mathbf{I} \\right)$$\n",
    "\n",
    "recapping, we know:\n",
    "- $q(x_t | x_{t-1})$\n",
    "- $q(x_t)$ \n",
    "- $q(x_{t-1})$\n",
    "\n",
    "Using Bayes theorem:\n",
    "\n",
    "$$q(x_{t-1} \\vert x_{t}) = \\frac{q(x_t \\vert x_{t-1})q(x_{t-1})}{q(x_{t})}$$\n",
    "\n",
    "substituting the known PDFs we compute the $\\mu$ and $\\sigma$ of $q(x_{t-1} \\vert x_{t})$:\n",
    "\n",
    "$$\\begin{aligned} \n",
    "\\tilde{\\mu}_t(x_t, x_0) & = \\frac{(1-\\bar{\\alpha}_{t-1})\\sqrt{\\vphantom{1}\\alpha_t}}{1-\\bar{\\alpha}_t} x_t + \\frac{\\beta_t \\sqrt{\\vphantom{1}\\bar{\\alpha}_{t-1}}}{1-\\bar{\\alpha}_t} x_0\n",
    "\\\\\n",
    "\\hspace{1cm} \\\\\n",
    "\n",
    "\\tilde{\\sigma}_t  & = \\beta_t\\frac{1-\\bar{\\alpha}_{t-1}}{1-\\bar{\\alpha}_t} \n",
    "\\end{aligned}$$\n"
   ]
  },
  {
   "attachments": {},
   "cell_type": "markdown",
   "metadata": {},
   "source": [
    "# Sampling from $q(x_t)$\n",
    "\n",
    "$$x_t = \\sqrt{\\vphantom{1}\\bar{\\alpha}_t} x_0 +  \\bar{z}\\sqrt{1 - \\bar{\\alpha}_t}$$"
   ]
  },
  {
   "cell_type": "code",
   "execution_count": 12,
   "metadata": {},
   "outputs": [],
   "source": [
    "def add_noise(noise_scheduler, x_start, x_noise, timesteps):\n",
    "    s1 = noise_scheduler.sqrt_alphas_cumprod[timesteps]\n",
    "    s2 = noise_scheduler.sqrt_one_minus_alphas_cumprod[timesteps]\n",
    "    s1 = s1.reshape(-1, 1)\n",
    "    s2 = s2.reshape(-1, 1)\n",
    "    return s1 * x_start + s2 * x_noise"
   ]
  },
  {
   "attachments": {},
   "cell_type": "markdown",
   "metadata": {},
   "source": [
    "# Sampling $q(x_t)$ to estimate $\\hat{x}_0$\n",
    "\n",
    "$$q(x_t) = \\mathcal{N}\\left(\\sqrt{\\vphantom{1}\\bar{\\alpha}_t} x_0, \\left(1 - \\bar{\\alpha}_t \\right) \\mathbf{I} \\right)\\\\\n",
    "\\therefore \\\\\n",
    "x_t = \\sqrt{\\vphantom{1}\\bar{\\alpha}_t} \\hat{x}_0 +  \\bar{z}\\sqrt{1 - \\bar{\\alpha}_t} \\\\\n",
    "\\therefore \\\\\n",
    " \\hat{x}_0 = \\frac{1}{\\sqrt{\\vphantom{1}\\bar{\\alpha}_t}}x_t -\n",
    "                        \\bar{z}\\sqrt{\\frac{1}{\\bar{\\alpha}_t} - 1} $$"
   ]
  },
  {
   "cell_type": "code",
   "execution_count": 9,
   "metadata": {},
   "outputs": [],
   "source": [
    "\n",
    "def reconstruct_x0(noise_scheduler, x_t, t, noise):\n",
    "    s1 = noise_scheduler.sqrt_inv_alphas_cumprod[t]\n",
    "    s2 = noise_scheduler.sqrt_inv_alphas_cumprod_minus_one[t]\n",
    "    s1 = s1.reshape(-1, 1)\n",
    "    s2 = s2.reshape(-1, 1)\n",
    "    return s1 * x_t - s2 * noise"
   ]
  },
  {
   "attachments": {},
   "cell_type": "markdown",
   "metadata": {},
   "source": [
    "# Computing $\\mu$ and $\\sigma$ of $q(x_{t-1} \\vert x_t)$\n",
    "\n",
    "$$\\begin{aligned} \n",
    "\\tilde{\\mu}_t(x_t, x_0) & = \\frac{(1-\\bar{\\alpha}_{t-1})\\sqrt{\\vphantom{1}\\alpha_t}}{1-\\bar{\\alpha}_t} x_t + \\frac{\\beta_t \\sqrt{\\vphantom{1}\\bar{\\alpha}_{t-1}}}{1-\\bar{\\alpha}_t} \\hat{x}_0\n",
    "\\\\\n",
    "\\hspace{1cm} \\\\\n",
    "\n",
    "\\tilde{\\sigma}_t  & = \\beta_t\\frac{1-\\bar{\\alpha}_{t-1}}{1-\\bar{\\alpha}_t} \n",
    "\\end{aligned}$$"
   ]
  },
  {
   "cell_type": "code",
   "execution_count": 10,
   "metadata": {},
   "outputs": [],
   "source": [
    "def q_posterior_mean(noise_scheduler, x_0, x_t, t):\n",
    "    s1 = noise_scheduler.posterior_mean_coef1[t]\n",
    "    s2 = noise_scheduler.posterior_mean_coef2[t]\n",
    "    s1 = s1.reshape(-1, 1)\n",
    "    s2 = s2.reshape(-1, 1)\n",
    "    mu = s1 * x_0 + s2 * x_t\n",
    "    return mu\n",
    "\n",
    "def q_posterior_variance(noise_scheduler, t):\n",
    "    if t == 0:\n",
    "        return 0\n",
    "\n",
    "    variance = noise_scheduler.betas[t] * (1. - noise_scheduler.alphas_cumprod_prev[t]) / (1. - noise_scheduler.alphas_cumprod[t])\n",
    "    variance = variance.clamp(1e-20)\n",
    "    return variance"
   ]
  },
  {
   "attachments": {},
   "cell_type": "markdown",
   "metadata": {},
   "source": [
    "# Sample $q(x_{t-1} \\vert x_t)$"
   ]
  },
  {
   "cell_type": "code",
   "execution_count": null,
   "metadata": {},
   "outputs": [],
   "source": [
    "\n",
    "def diffusion_step(noise_scheduler, model_output, timestep, sample):\n",
    "    t = timestep\n",
    "    pred_original_sample = reconstruct_x0(noise_scheduler, sample, t, model_output)\n",
    "\n",
    "    # compute posterior distribution\n",
    "\n",
    "    mean = q_posterior_mean(noise_scheduler, pred_original_sample, sample, t)\n",
    "    variance = (q_posterior_variance(noise_scheduler, t) ** 0.5) \n",
    "\n",
    "    # sample from the distribution    \n",
    "    noise = torch.randn_like(model_output)\n",
    "    pred_prev_sample = mean + variance * noise\n",
    "\n",
    "    return pred_prev_sample"
   ]
  },
  {
   "cell_type": "code",
   "execution_count": 15,
   "metadata": {},
   "outputs": [
    {
     "name": "stdout",
     "output_type": "stream",
     "text": [
      "<__main__.Config object at 0x7f2f200a3cd0>\n",
      "Training model...\n"
     ]
    }
   ],
   "source": [
    "class Config():\n",
    "    def __init__(self):\n",
    "        self.experiment_name = \"base\"\n",
    "        self.dataset = \"dino\"\n",
    "        self.train_batch_size = 32\n",
    "        self.eval_batch_size = 1000\n",
    "        self.num_epochs = 200\n",
    "        self.learning_rate = 1e-3\n",
    "        self.num_timesteps = 50\n",
    "        self.beta_schedule = \"linear\"\n",
    "        self.embedding_size = 128\n",
    "        self.hidden_size = 128\n",
    "        self.hidden_layers = 3\n",
    "        self.time_embedding = \"sinusoidal\"\n",
    "        self.input_embedding = \"sinusoidal\"\n",
    "        self.save_images_step = 1\n",
    "\n",
    "config = Config()        \n",
    "print(config)\n",
    "dataset = datasets.get_dataset(config.dataset)\n",
    "dataloader = DataLoader(\n",
    "    dataset, batch_size=config.train_batch_size, shuffle=True, drop_last=True)\n",
    "\n",
    "model = MLP(\n",
    "    hidden_size=config.hidden_size,\n",
    "    hidden_layers=config.hidden_layers,\n",
    "    emb_size=config.embedding_size,\n",
    "    time_emb=config.time_embedding,\n",
    "    input_emb=config.input_embedding)\n",
    "\n",
    "noise_scheduler = NoiseScheduler(\n",
    "    num_timesteps=config.num_timesteps,\n",
    "    beta_schedule=config.beta_schedule)\n",
    "\n",
    "optimizer = torch.optim.AdamW(\n",
    "    model.parameters(),\n",
    "    lr=config.learning_rate,\n",
    ")\n",
    "\n",
    "global_step = 0\n",
    "frames = []\n",
    "losses = []\n",
    "print(\"Training model...\")\n",
    "for epoch in range(config.num_epochs):\n",
    "    model.train()\n",
    "    for step, batch in enumerate(dataloader):\n",
    "        batch = batch[0]\n",
    "        noise = torch.randn(batch.shape)\n",
    "        timesteps = torch.randint(\n",
    "            0, noise_scheduler.num_timesteps, (batch.shape[0],)\n",
    "        ).long()\n",
    "\n",
    "        noisy = add_noise(noise_scheduler, batch, noise, timesteps)\n",
    "        noise_pred = model(noisy, timesteps)\n",
    "        loss = F.mse_loss(noise_pred, noise)\n",
    "        loss.backward(loss)\n",
    "\n",
    "        nn.utils.clip_grad_norm_(model.parameters(), 1.0)\n",
    "        optimizer.step()\n",
    "        optimizer.zero_grad()\n",
    "\n",
    "        logs = {\"loss\": loss.detach().item(), \"step\": global_step}\n",
    "        losses.append(loss.detach().item())\n",
    "        global_step += 1\n",
    "\n",
    "    if epoch % config.save_images_step == 0 or epoch == config.num_epochs - 1:\n",
    "        # generate data with the model to later visualize the learning process\n",
    "        model.eval()\n",
    "        sample = torch.randn(config.eval_batch_size, 2)\n",
    "        timesteps = list(range(len(noise_scheduler)))[::-1]\n",
    "        for i, t in enumerate(timesteps):\n",
    "            t = torch.from_numpy(np.repeat(t, config.eval_batch_size)).long()\n",
    "            with torch.no_grad():\n",
    "                residual = model(sample, t)            \n",
    "            sample = diffusion_step(noise_scheduler, residual, t[0], sample)\n",
    "        frames.append(sample.numpy())\n"
   ]
  },
  {
   "cell_type": "code",
   "execution_count": null,
   "metadata": {},
   "outputs": [
    {
     "name": "stdout",
     "output_type": "stream",
     "text": [
      "Saving model...\n",
      "Saving images...\n",
      "Saving loss as numpy array...\n",
      "Saving frames...\n"
     ]
    }
   ],
   "source": [
    "\n",
    "print(\"Saving model...\")\n",
    "outdir = f\"exps/{config.experiment_name}\"\n",
    "os.makedirs(outdir, exist_ok=True)\n",
    "torch.save(model.state_dict(), f\"{outdir}/model.pth\")\n",
    "\n",
    "print(\"Saving images...\")\n",
    "imgdir = f\"{outdir}/images\"\n",
    "os.makedirs(imgdir, exist_ok=True)\n",
    "frames = np.stack(frames)\n",
    "xmin, xmax = -6, 6\n",
    "ymin, ymax = -6, 6\n",
    "for i, frame in enumerate(frames):\n",
    "    plt.figure(figsize=(10, 10))\n",
    "    plt.scatter(frame[:, 0], frame[:, 1])\n",
    "    plt.xlim(xmin, xmax)\n",
    "    plt.ylim(ymin, ymax)\n",
    "    plt.savefig(f\"{imgdir}/{i:04}.png\")\n",
    "    plt.close()\n",
    "\n",
    "print(\"Saving loss as numpy array...\")\n",
    "np.save(f\"{outdir}/loss.npy\", np.array(losses))\n",
    "\n",
    "print(\"Saving frames...\")\n",
    "np.save(f\"{outdir}/frames.npy\", frames)\n"
   ]
  },
  {
   "cell_type": "code",
   "execution_count": 30,
   "metadata": {},
   "outputs": [],
   "source": [
    "def plot_data(t):\n",
    "    xmin, xmax = -6, 6\n",
    "    ymin, ymax = -6, 6\n",
    "    plt.figure(figsize=(10, 10))\n",
    "    plt.scatter(t[:, 0], t[:, 1])\n",
    "    plt.xlim(xmin, xmax)\n",
    "    plt.ylim(ymin, ymax)\n",
    "    return plt\n"
   ]
  },
  {
   "cell_type": "code",
   "execution_count": 46,
   "metadata": {},
   "outputs": [
    {
     "data": {
      "text/plain": [
       "<module 'matplotlib.pyplot' from '/home/raul/.local/lib/python3.8/site-packages/matplotlib/pyplot.py'>"
      ]
     },
     "execution_count": 46,
     "metadata": {},
     "output_type": "execute_result"
    },
    {
     "data": {
      "image/png": "[encoded data removed]",
      "text/plain": [
       "<Figure size 720x720 with 1 Axes>"
      ]
     },
     "metadata": {
      "needs_background": "light"
     },
     "output_type": "display_data"
    }
   ],
   "source": [
    "d, = dataloader.dataset[:,:]\n",
    "plot_data(d)"
   ]
  }
 ],
 "metadata": {
  "kernelspec": {
   "display_name": "Python 3",
   "language": "python",
   "name": "python3"
  },
  "language_info": {
   "codemirror_mode": {
    "name": "ipython",
    "version": 3
   },
   "file_extension": ".py",
   "mimetype": "text/x-python",
   "name": "python",
   "nbconvert_exporter": "python",
   "pygments_lexer": "ipython3",
   "version": "3.8.10"
  },
  "orig_nbformat": 4,
  "vscode": {
   "interpreter": {
    "hash": "31f2aee4e71d21fbe5cf8b01ff0e069b9275f58929596ceb00d14d90e3e16cd6"
   }
  }
 },
 "nbformat": 4,
 "nbformat_minor": 2
}
